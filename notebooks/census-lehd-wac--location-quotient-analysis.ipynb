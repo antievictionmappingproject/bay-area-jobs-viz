{
 "cells": [
  {
   "cell_type": "markdown",
   "metadata": {},
   "source": [
    "# Census LEHD WAC Location Quotient Analysis"
   ]
  },
  {
   "cell_type": "markdown",
   "metadata": {},
   "source": [
    "Calculating the _Location Quotient_ of LEHD WAC data."
   ]
  },
  {
   "cell_type": "code",
   "execution_count": 1,
   "metadata": {},
   "outputs": [],
   "source": [
    "import pandas as pd\n",
    "import geopandas as gpd\n",
    "import numpy as np\n",
    "import sys, os"
   ]
  },
  {
   "cell_type": "markdown",
   "metadata": {},
   "source": [
    "## Load Data"
   ]
  },
  {
   "cell_type": "code",
   "execution_count": 2,
   "metadata": {},
   "outputs": [],
   "source": [
    "# specify paths for csv and shapefile data\n",
    "dirname = os.path.dirname(os.path.realpath(\"__file__\"))\n",
    "wac2015_filepath = os.path.join(dirname, \"../data/wac/ca_wac_S000_JT00_2015.csv.gz\")\n",
    "cxwalk_filepath = os.path.join(dirname, \"../data/wac/ca_xwalk.csv.gz\")"
   ]
  },
  {
   "cell_type": "code",
   "execution_count": 16,
   "metadata": {},
   "outputs": [],
   "source": [
    "# load 2002 & 2015 census wac data, plus crosswalk file\n",
    "wac2015 = pd.read_csv(wac2015_filepath, sep=\",\", delimiter=None, header=\"infer\", names=None, index_col=None, usecols=None, compression=\"gzip\")\n",
    "cxwalk = pd.read_csv(cxwalk_filepath, sep=\",\", delimiter=None, header=\"infer\", names=None, index_col=None, usecols=None, compression=\"gzip\", encoding=\"ISO-8859-1\", low_memory=False)"
   ]
  },
  {
   "cell_type": "markdown",
   "metadata": {},
   "source": [
    "## Filter and Rollup "
   ]
  },
  {
   "cell_type": "code",
   "execution_count": 17,
   "metadata": {},
   "outputs": [],
   "source": [
    "# filter crosswalk table by 9 counties of SF Bay Area\n",
    "cty_fips_list = [6001, 6013, 6041, 6055, 6075, 6081, 6085, 6095, 6097]\n",
    "cxwalk = cxwalk[cxwalk['cty'].isin(cty_fips_list)]"
   ]
  },
  {
   "cell_type": "code",
   "execution_count": 18,
   "metadata": {},
   "outputs": [],
   "source": [
    "# keep only the block and tract id columns\n",
    "cxwalk = cxwalk[['tabblk2010', 'trct']]"
   ]
  },
  {
   "cell_type": "code",
   "execution_count": 19,
   "metadata": {},
   "outputs": [],
   "source": [
    "# join 2015 wac files to cxwalk using fields w_geocode and tabblk2010\n",
    "wac = wac2015.merge(cxwalk, how=\"inner\", left_on=\"w_geocode\", right_on=\"tabblk2010\")"
   ]
  },
  {
   "cell_type": "code",
   "execution_count": 20,
   "metadata": {},
   "outputs": [],
   "source": [
    "# NAICS codes for each super category\n",
    "makers = ['CNS01', 'CNS02', 'CNS03', 'CNS04', 'CNS05', 'CNS06', 'CNS08']\n",
    "services = ['CNS07', 'CNS14', 'CNS17', 'CNS18']\n",
    "professions = ['CNS09', 'CNS10', 'CNS11', 'CNS12', 'CNS13']\n",
    "support = ['CNS15', 'CNS16', 'CNS19', 'CNS20']"
   ]
  },
  {
   "cell_type": "code",
   "execution_count": 21,
   "metadata": {},
   "outputs": [],
   "source": [
    "# create new aggregate columns for various job sectors\n",
    "wac['makers'] = wac[makers].sum(axis=1)\n",
    "wac['services'] = wac[services].sum(axis=1)\n",
    "wac['professions'] = wac[professions].sum(axis=1)\n",
    "wac['support'] = wac[support].sum(axis=1)\n",
    "wac['total'] = wac['C000']"
   ]
  },
  {
   "cell_type": "code",
   "execution_count": 22,
   "metadata": {},
   "outputs": [],
   "source": [
    "# make sure things add up\n",
    "assert sum(wac['C000'] -(wac['makers'] + wac['services'] + wac['professions'] + wac['support'])) == 0"
   ]
  },
  {
   "cell_type": "code",
   "execution_count": 23,
   "metadata": {},
   "outputs": [],
   "source": [
    "# keep only the columns we need from the wac dataframe\n",
    "wac = wac[['trct', 'makers', 'services', 'professions', 'support', 'total']]"
   ]
  },
  {
   "cell_type": "code",
   "execution_count": 24,
   "metadata": {},
   "outputs": [],
   "source": [
    "# group and aggregate data by census tract\n",
    "wac = wac.groupby('trct', as_index=False).agg(np.sum)"
   ]
  },
  {
   "cell_type": "markdown",
   "metadata": {},
   "source": [
    "## LQ Processing"
   ]
  },
  {
   "cell_type": "code",
   "execution_count": 25,
   "metadata": {},
   "outputs": [],
   "source": [
    "# store totals for each category, these will be the total jobs by category for the entire bay area\n",
    "makers_total = wac['makers'].sum()\n",
    "services_total = wac['services'].sum()\n",
    "professions_total = wac['professions'].sum()\n",
    "support_total = wac['support'].sum()\n",
    "all_total = makers_total + services_total + professions_total + support_total * 1.0"
   ]
  },
  {
   "cell_type": "code",
   "execution_count": 26,
   "metadata": {},
   "outputs": [],
   "source": [
    "# calculate percentages for each category, these will be used for determining the location quotients later\n",
    "makers_pct = makers_total / all_total\n",
    "services_pct = services_total / all_total\n",
    "professions_pct = professions_total / all_total\n",
    "support_pct = support_total / all_total"
   ]
  },
  {
   "cell_type": "code",
   "execution_count": 27,
   "metadata": {},
   "outputs": [],
   "source": [
    "# compute tract level location quotients\n",
    "wac['make_lq'] = wac['makers'] / wac['total'] / makers_pct\n",
    "wac['serv_lq'] = wac['services'] / wac['total'] / services_pct\n",
    "wac['prof_lq'] = wac['professions'] / wac['total'] / professions_pct\n",
    "wac['supp_lq'] = wac['support'] / wac['total'] / support_pct"
   ]
  },
  {
   "cell_type": "markdown",
   "metadata": {},
   "source": [
    "## Output to CSV"
   ]
  },
  {
   "cell_type": "code",
   "execution_count": 28,
   "metadata": {},
   "outputs": [],
   "source": [
    "# columns to keep for output csv\n",
    "columns = ['trct', 'make_lq', 'serv_lq', 'prof_lq', 'supp_lq']\n",
    "outfile = os.path.join(dirname, 'wac2015_lq.csv')\n",
    "wac.to_csv(outfile, columns=columns, index=False, encoding=\"utf-8\")"
   ]
  }
 ],
 "metadata": {
  "kernelspec": {
   "display_name": "Python 3",
   "language": "python",
   "name": "python3"
  },
  "language_info": {
   "codemirror_mode": {
    "name": "ipython",
    "version": 3
   },
   "file_extension": ".py",
   "mimetype": "text/x-python",
   "name": "python",
   "nbconvert_exporter": "python",
   "pygments_lexer": "ipython3",
   "version": "3.7.0"
  }
 },
 "nbformat": 4,
 "nbformat_minor": 2
}
