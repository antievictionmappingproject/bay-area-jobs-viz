{
 "cells": [
  {
   "cell_type": "markdown",
   "metadata": {},
   "source": [
    "# Census LEHD WAC Supportive Stats"
   ]
  },
  {
   "cell_type": "markdown",
   "metadata": {},
   "source": [
    "This notebook is meant to explore summary statistics that may be used to support the 2015 LQ, 2002–2015 LQ diff, and job density analyses.\n",
    "\n",
    "Ideas could be:\n",
    "- determine raw job count changes at the county level for each county\n",
    "- look for noticeable changes by job sector (e.g. places where manufacturing jobs took a hit and were replaced by another job category)"
   ]
  },
  {
   "cell_type": "code",
   "execution_count": 1,
   "metadata": {},
   "outputs": [],
   "source": [
    "import pandas as pd\n",
    "import geopandas as gpd\n",
    "import numpy as np\n",
    "import sys, os"
   ]
  },
  {
   "cell_type": "markdown",
   "metadata": {},
   "source": [
    "## Load Data"
   ]
  },
  {
   "cell_type": "code",
   "execution_count": 2,
   "metadata": {},
   "outputs": [],
   "source": [
    "# specify paths for csv and shapefile data\n",
    "dirname = os.path.dirname(os.path.realpath(\"__file__\"))\n",
    "wac2015_filepath = os.path.join(dirname, \"../data/wac/ca_wac_S000_JT00_2015.csv.gz\")\n",
    "wac2002_filepath = os.path.join(dirname, \"../data/wac/ca_wac_S000_JT00_2002.csv.gz\")\n",
    "cxwalk_filepath = os.path.join(dirname, \"../data/wac/ca_xwalk.csv.gz\")\n",
    "tracts_shp_filepath = os.path.join(dirname, \"../data/census_tracts/tracts_2010_4326.shp\")"
   ]
  },
  {
   "cell_type": "code",
   "execution_count": 3,
   "metadata": {},
   "outputs": [],
   "source": [
    "# load 2002 & 2015 census wac data, plus crosswalk file\n",
    "wac2015 = pd.read_csv(wac2015_filepath, sep=\",\", delimiter=None, header=\"infer\", names=None, index_col=None, usecols=None, compression=\"gzip\")\n",
    "wac2002 = pd.read_csv(wac2002_filepath, sep=\",\", delimiter=None, header=\"infer\", names=None, index_col=None, usecols=None, compression=\"gzip\")\n",
    "cxwalk = pd.read_csv(cxwalk_filepath, sep=\",\", delimiter=None, header=\"infer\", names=None, index_col=None, usecols=None, compression=\"gzip\", encoding=\"ISO-8859-1\", low_memory=False)\n"
   ]
  },
  {
   "cell_type": "markdown",
   "metadata": {},
   "source": [
    "## Filter and Rollup "
   ]
  },
  {
   "cell_type": "code",
   "execution_count": 4,
   "metadata": {},
   "outputs": [],
   "source": [
    "# filter crosswalk table by 9 counties of SF Bay Area\n",
    "cty_fips_list = [6001, 6013, 6041, 6055, 6075, 6081, 6085, 6095, 6097]\n",
    "cxwalk = cxwalk[cxwalk['cty'].isin(cty_fips_list)]"
   ]
  },
  {
   "cell_type": "code",
   "execution_count": 5,
   "metadata": {},
   "outputs": [],
   "source": [
    "# keep only the block fips, county fips, count name columns\n",
    "cxwalk = cxwalk[['tabblk2010', 'cty', 'ctyname']]"
   ]
  },
  {
   "cell_type": "code",
   "execution_count": 6,
   "metadata": {},
   "outputs": [],
   "source": [
    "# join 2015 and 2002 wac files to cxwalk using fields w_geocode and tabblk2010\n",
    "wac2015 = wac2015.merge(cxwalk, how=\"inner\", left_on=\"w_geocode\", right_on=\"tabblk2010\")\n",
    "wac2002 = wac2002.merge(cxwalk, how=\"inner\", left_on=\"w_geocode\", right_on=\"tabblk2010\")"
   ]
  },
  {
   "cell_type": "code",
   "execution_count": 7,
   "metadata": {},
   "outputs": [
    {
     "name": "stdout",
     "output_type": "stream",
     "text": [
      "    cty           w_geocode     C000    CA01    CA02    CA03    CE01    CE02  \\\n",
      "0  6001  671379947659613568   751240  143890  433641  173709  144398  207492   \n",
      "1  6013  392971825385879936   359762   71810  202060   85892   76675  101762   \n",
      "2  6041  115929019670955728   112471   21223   62225   29023   23968   32405   \n",
      "3  6055   69574259019475792    73604   15422   40407   17775   15321   25798   \n",
      "4  6075  307093630483542400   700616  141710  414256  144650  113414  154762   \n",
      "5  6081  296782474742689856   387932   73715  229957   84260   61282   96489   \n",
      "6  6085  675673824262030080  1006868  183724  605665  217479  161625  225818   \n",
      "7  6095  168350881040361632   144473   30546   80356   33571   33209   40485   \n",
      "8  6097  236813394092384032   193045   40956  102836   49253   46359   66381   \n",
      "\n",
      "     CE03  CNS01         ...          CFA03  CFA04  CFA05  CFS01  CFS02  \\\n",
      "0  399350    365         ...              0      0      0      0      0   \n",
      "1  181325    696         ...              0      0      0      0      0   \n",
      "2   56098    419         ...              0      0      0      0      0   \n",
      "3   32485   5438         ...              0      0      0      0      0   \n",
      "4  432440    191         ...              0      0      0      0      0   \n",
      "5  230161   1724         ...              0      0      0      0      0   \n",
      "6  619425   3048         ...              0      0      0      0      0   \n",
      "7   70779   1615         ...              0      0      0      0      0   \n",
      "8   80305   5976         ...              0      0      0      0      0   \n",
      "\n",
      "   CFS03  CFS04  CFS05    createdate          tabblk2010  \n",
      "0      0      0      0  225652070853  671379947659613568  \n",
      "1      0      0      0  131816955665  392971825385879936  \n",
      "2      0      0      0   38707993561  115929019670955728  \n",
      "3      0      0      0   23176385931   69574259019475792  \n",
      "4      0      0      0  101963995545  307093630483542400  \n",
      "5      0      0      0   98434084720  296782474742689856  \n",
      "6      0      0      0  223957713657  675673824262030080  \n",
      "7      0      0      0   55712078278  168350881040361632  \n",
      "8      0      0      0   78343849396  236813394092384032  \n",
      "\n",
      "[9 rows x 55 columns]\n"
     ]
    }
   ],
   "source": [
    "# aggregate wac data to the county level\n",
    "wac2015 = wac2015.groupby('cty', as_index=False).agg(np.sum)\n",
    "wac2002 = wac2002.groupby('cty', as_index=False).agg(np.sum)\n",
    "print(wac2015)"
   ]
  },
  {
   "cell_type": "code",
   "execution_count": 8,
   "metadata": {},
   "outputs": [
    {
     "name": "stdout",
     "output_type": "stream",
     "text": [
      "    cty         ctyname\n",
      "0  6001        Alameda \n",
      "1  6013   Contra Costa \n",
      "2  6041          Marin \n",
      "3  6055           Napa \n",
      "4  6075  San Francisco \n",
      "5  6081      San Mateo \n",
      "6  6085    Santa Clara \n",
      "7  6095         Solano \n",
      "8  6097         Sonoma \n"
     ]
    }
   ],
   "source": [
    "# new data frame for storing county level stats\n",
    "# create a map of county names to county fips codes\n",
    "c = cxwalk[['cty', 'ctyname']].copy().drop_duplicates()\n",
    "c['ctyname'] = c['ctyname'].str[:-10]\n",
    "c = c.reset_index(drop=True)\n",
    "\n",
    "print(c)"
   ]
  },
  {
   "cell_type": "markdown",
   "metadata": {},
   "source": [
    "## Sum NAICS codes to create super categories"
   ]
  },
  {
   "cell_type": "code",
   "execution_count": 9,
   "metadata": {},
   "outputs": [],
   "source": [
    "# NAICS codes for each super category\n",
    "makers = ['CNS01', 'CNS02', 'CNS03', 'CNS04', 'CNS05', 'CNS06', 'CNS08']\n",
    "services = ['CNS07', 'CNS14', 'CNS17', 'CNS18']\n",
    "professions = ['CNS09', 'CNS10', 'CNS11', 'CNS12', 'CNS13']\n",
    "support = ['CNS15', 'CNS16', 'CNS19', 'CNS20']"
   ]
  },
  {
   "cell_type": "code",
   "execution_count": 10,
   "metadata": {},
   "outputs": [],
   "source": [
    "# create new aggregate columns for various job sectors\n",
    "wac2015['makers'] = wac2015[makers].sum(axis=1)\n",
    "wac2015['services'] = wac2015[services].sum(axis=1)\n",
    "wac2015['professions'] = wac2015[professions].sum(axis=1)\n",
    "wac2015['support'] = wac2015[support].sum(axis=1)\n",
    "wac2015['total'] = wac2015['C000']\n",
    "\n",
    "wac2002['makers'] = wac2002[makers].sum(axis=1)\n",
    "wac2002['services'] = wac2002[services].sum(axis=1)\n",
    "wac2002['professions'] = wac2002[professions].sum(axis=1)\n",
    "wac2002['support'] = wac2002[support].sum(axis=1)\n",
    "wac2002['total'] = wac2002['C000']"
   ]
  },
  {
   "cell_type": "code",
   "execution_count": 11,
   "metadata": {},
   "outputs": [],
   "source": [
    "# make sure things add up\n",
    "assert sum(wac2015['total'] -(wac2015['makers'] + wac2015['services'] + wac2015['professions'] + wac2015['support'])) == 0\n",
    "assert sum(wac2002['total'] -(wac2002['makers'] + wac2002['services'] + wac2002['professions'] + wac2002['support'])) == 0"
   ]
  },
  {
   "cell_type": "code",
   "execution_count": 12,
   "metadata": {},
   "outputs": [
    {
     "name": "stdout",
     "output_type": "stream",
     "text": [
      "    cty  makers  services  professions  support   total\n",
      "0  6001  207584    161272       144053   177694  690603\n",
      "1  6013   65021     91159        68769    99357  324306\n",
      "2  6041   17445     33113        24764    30249  105571\n",
      "3  6055   22122     16995         5547    14844   59508\n",
      "4  6075   68532    157342       161633   130325  517832\n",
      "5  6081   95521     91260        84280    69710  340771\n",
      "6  6085  283270    202144       194061   183572  863047\n",
      "7  6095   31748     35438        12627    38019  117832\n",
      "8  6097   54733     47551        23754    52476  178514\n"
     ]
    }
   ],
   "source": [
    "# keep only the columns we need from the wac dataframe\n",
    "to_keep = ['cty', 'makers', 'services', 'professions', 'support', 'total']\n",
    "wac2015 = wac2015[to_keep]\n",
    "wac2002 = wac2002[to_keep]\n",
    "print(wac2002)"
   ]
  },
  {
   "cell_type": "markdown",
   "metadata": {},
   "source": [
    "## Apply county level stats"
   ]
  },
  {
   "cell_type": "code",
   "execution_count": 13,
   "metadata": {},
   "outputs": [],
   "source": [
    "# add the 2015 columns\n",
    "c = pd.merge(c, wac2015[['makers', 'services', 'professions', 'support', 'total', 'cty']], on='cty')\n",
    "\n",
    "# rename 2015 columns to distinguish from 2002\n",
    "c = c.rename(columns={'makers': 'makers_2015', 'services': 'services_2015', 'professions': 'professions_2015', 'support': 'support_2015', 'total': 'total_2015'})\n",
    "\n",
    "# ditto for 2002\n",
    "c = pd.merge(c, wac2002[['makers', 'services', 'professions', 'support', 'total', 'cty']], on='cty')\n",
    "c = c.rename(columns={'makers': 'makers_2002', 'services': 'services_2002', 'professions': 'professions_2002', 'support': 'support_2002', 'total': 'total_2002'})\n",
    "\n",
    "# calc 2015 – 2002 change\n",
    "c['maker_change'] = wac2015['makers'] - wac2002['makers']\n",
    "c['prof_change'] = wac2015['professions'] - wac2002['professions']\n",
    "c['services_change'] = wac2015['services'] - wac2002['services']\n",
    "c['support_change'] = wac2015['support'] - wac2002['support']\n",
    "c['total_change'] = wac2015['total'] - wac2002['total']\n",
    "\n",
    "# calc 2015 – 2002 percentage change\n",
    "c['maker_pct_change'] = (c['maker_change'] / wac2002['makers']).round(2)\n",
    "c['prof_pct_change'] = (c['prof_change'] / wac2002['professions']).round(2)\n",
    "c['services_pct_change'] = (c['services_change'] / wac2002['services']).round(2)\n",
    "c['support_pct_change'] = (c['support_change'] / wac2002['support']).round(2)\n",
    "\n",
    "c = c.sort_values('total_change', ascending=False)"
   ]
  },
  {
   "cell_type": "code",
   "execution_count": 14,
   "metadata": {},
   "outputs": [],
   "source": [
    "# save above table to csv\n",
    "c.to_csv(os.path.join(dirname, \"county_level_change.csv\"), index=False)"
   ]
  },
  {
   "cell_type": "markdown",
   "metadata": {},
   "source": [
    "## Regional change of each category from 2002 – 2015"
   ]
  },
  {
   "cell_type": "code",
   "execution_count": 15,
   "metadata": {},
   "outputs": [],
   "source": [
    "# new data frame for 9 county sf bay area region\n",
    "reg = pd.DataFrame(\n",
    "    columns=['category', '2002', '2015', 'change', 'pct_change'],\n",
    "    index=[0, 1, 2, 3, 4]\n",
    ")\n",
    "\n",
    "reg['category'] = ['makers', 'services', 'professions', 'support', 'total']\n",
    "\n",
    "#print(reg)"
   ]
  },
  {
   "cell_type": "code",
   "execution_count": 16,
   "metadata": {},
   "outputs": [],
   "source": [
    "# calc 2015 & 2002 yearly totals for each category\n",
    "reg['2015'] = [\n",
    "    wac2015['makers'].sum(),\n",
    "    wac2015['services'].sum(),\n",
    "    wac2015['professions'].sum(),\n",
    "    wac2015['support'].sum(),\n",
    "    wac2015['total'].sum()\n",
    "]\n",
    "\n",
    "reg['2002'] = [\n",
    "    wac2002['makers'].sum(),\n",
    "    wac2002['services'].sum(),\n",
    "    wac2002['professions'].sum(),\n",
    "    wac2002['support'].sum(),\n",
    "    wac2002['total'].sum()\n",
    "]\n",
    "\n",
    "#print(reg)"
   ]
  },
  {
   "cell_type": "code",
   "execution_count": 17,
   "metadata": {},
   "outputs": [
    {
     "name": "stdout",
     "output_type": "stream",
     "text": [
      "      category     2002     2015  change  pct_change\n",
      "0       makers   845976   799916  -46060       -5.44\n",
      "1     services   836274   985798  149524       17.88\n",
      "2  professions   719488   887679  168191       23.38\n",
      "3      support   796246  1056618  260372       32.70\n",
      "4        total  3197984  3730011  532027       16.64\n"
     ]
    }
   ],
   "source": [
    "# calc the net and percentage diff between years\n",
    "reg['change'] = reg['2015'] - reg['2002']\n",
    "reg['pct_change'] = (reg['change'] / reg['2002'] * 100).round(2)\n",
    "\n",
    "print(reg)"
   ]
  },
  {
   "cell_type": "code",
   "execution_count": 18,
   "metadata": {},
   "outputs": [],
   "source": [
    "# save above table to csv\n",
    "reg.to_csv(os.path.join(dirname, \"region_level_change.csv\"), index=False)"
   ]
  }
 ],
 "metadata": {
  "kernelspec": {
   "display_name": "Python 3",
   "language": "python",
   "name": "python3"
  },
  "language_info": {
   "codemirror_mode": {
    "name": "ipython",
    "version": 3
   },
   "file_extension": ".py",
   "mimetype": "text/x-python",
   "name": "python",
   "nbconvert_exporter": "python",
   "pygments_lexer": "ipython3",
   "version": "3.7.0"
  }
 },
 "nbformat": 4,
 "nbformat_minor": 2
}
