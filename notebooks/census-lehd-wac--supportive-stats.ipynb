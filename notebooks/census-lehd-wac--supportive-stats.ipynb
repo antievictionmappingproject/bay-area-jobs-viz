{
 "cells": [
  {
   "cell_type": "markdown",
   "metadata": {},
   "source": [
    "# Census LEHD WAC Supportive Stats"
   ]
  },
  {
   "cell_type": "markdown",
   "metadata": {},
   "source": [
    "This notebook is meant to explore summary statistics that may be used to support the 2015 LQ, 2002–2015 LQ diff, and job density analyses.\n",
    "\n",
    "Ideas could be:\n",
    "- determine raw job count changes at the county level for each county\n",
    "- look for noticeable changes by job sector (e.g. places where manufacturing jobs took a hit and were replaced by another job category)"
   ]
  },
  {
   "cell_type": "code",
   "execution_count": 1,
   "metadata": {},
   "outputs": [],
   "source": [
    "import pandas as pd\n",
    "import geopandas as gpd\n",
    "import numpy as np\n",
    "import sys, os"
   ]
  },
  {
   "cell_type": "markdown",
   "metadata": {},
   "source": [
    "## Load Data"
   ]
  },
  {
   "cell_type": "code",
   "execution_count": 2,
   "metadata": {},
   "outputs": [],
   "source": [
    "# specify paths for csv and shapefile data\n",
    "dirname = os.path.dirname(os.path.realpath(\"__file__\"))\n",
    "wac2015_filepath = os.path.join(dirname, \"../data/wac/ca_wac_S000_JT00_2015.csv.gz\")\n",
    "wac2002_filepath = os.path.join(dirname, \"../data/wac/ca_wac_S000_JT00_2002.csv.gz\")\n",
    "cxwalk_filepath = os.path.join(dirname, \"../data/wac/ca_xwalk.csv.gz\")\n",
    "tracts_shp_filepath = os.path.join(dirname, \"../data/census_tracts/tracts_2010_4326.shp\")"
   ]
  },
  {
   "cell_type": "code",
   "execution_count": 3,
   "metadata": {},
   "outputs": [],
   "source": [
    "# load 2002 & 2015 census wac data, plus crosswalk file\n",
    "wac2015 = pd.read_csv(wac2015_filepath, sep=\",\", delimiter=None, header=\"infer\", names=None, index_col=None, usecols=None, compression=\"gzip\")\n",
    "wac2002 = pd.read_csv(wac2002_filepath, sep=\",\", delimiter=None, header=\"infer\", names=None, index_col=None, usecols=None, compression=\"gzip\")\n",
    "cxwalk = pd.read_csv(cxwalk_filepath, sep=\",\", delimiter=None, header=\"infer\", names=None, index_col=None, usecols=None, compression=\"gzip\", encoding=\"ISO-8859-1\", low_memory=False)"
   ]
  },
  {
   "cell_type": "markdown",
   "metadata": {},
   "source": [
    "## Filter and Rollup "
   ]
  },
  {
   "cell_type": "code",
   "execution_count": 4,
   "metadata": {},
   "outputs": [],
   "source": [
    "# filter crosswalk table by 9 counties of SF Bay Area\n",
    "cty_fips_list = [6001, 6013, 6041, 6055, 6075, 6081, 6085, 6095, 6097]\n",
    "cxwalk = cxwalk[cxwalk['cty'].isin(cty_fips_list)]"
   ]
  },
  {
   "cell_type": "code",
   "execution_count": 5,
   "metadata": {},
   "outputs": [],
   "source": [
    "# keep only the block and tract id columns\n",
    "cxwalk = cxwalk[['tabblk2010', 'trct', 'cty', 'ctyname']]"
   ]
  },
  {
   "cell_type": "code",
   "execution_count": 6,
   "metadata": {},
   "outputs": [],
   "source": [
    "# join 2015 and 2002 wac files to cxwalk using fields w_geocode and tabblk2010\n",
    "wac2015 = wac2015.merge(cxwalk, how=\"inner\", left_on=\"w_geocode\", right_on=\"tabblk2010\")\n",
    "wac2002 = wac2002.merge(cxwalk, how=\"inner\", left_on=\"w_geocode\", right_on=\"tabblk2010\")"
   ]
  },
  {
   "cell_type": "code",
   "execution_count": 7,
   "metadata": {},
   "outputs": [],
   "source": [
    "# NAICS codes for each super category\n",
    "makers = ['CNS01', 'CNS02', 'CNS03', 'CNS04', 'CNS05', 'CNS06', 'CNS08']\n",
    "services = ['CNS07', 'CNS14', 'CNS17', 'CNS18']\n",
    "professions = ['CNS09', 'CNS10', 'CNS11', 'CNS12', 'CNS13']\n",
    "support = ['CNS15', 'CNS16', 'CNS19', 'CNS20']"
   ]
  },
  {
   "cell_type": "code",
   "execution_count": 8,
   "metadata": {},
   "outputs": [],
   "source": [
    "# create new aggregate columns for various job sectors\n",
    "wac2015['makers'] = wac2015[makers].sum(axis=1)\n",
    "wac2015['services'] = wac2015[services].sum(axis=1)\n",
    "wac2015['professions'] = wac2015[professions].sum(axis=1)\n",
    "wac2015['support'] = wac2015[support].sum(axis=1)\n",
    "wac2015['total'] = wac2015['C000']\n",
    "\n",
    "wac2002['makers'] = wac2002[makers].sum(axis=1)\n",
    "wac2002['services'] = wac2002[services].sum(axis=1)\n",
    "wac2002['professions'] = wac2002[professions].sum(axis=1)\n",
    "wac2002['support'] = wac2002[support].sum(axis=1)\n",
    "wac2002['total'] = wac2002['C000']"
   ]
  },
  {
   "cell_type": "code",
   "execution_count": 9,
   "metadata": {},
   "outputs": [],
   "source": [
    "# make sure things add up\n",
    "assert sum(wac2015['C000'] -(wac2015['makers'] + wac2015['services'] + wac2015['professions'] + wac2015['support'])) == 0\n",
    "assert sum(wac2002['C000'] -(wac2002['makers'] + wac2002['services'] + wac2002['professions'] + wac2002['support'])) == 0"
   ]
  },
  {
   "cell_type": "code",
   "execution_count": 10,
   "metadata": {},
   "outputs": [],
   "source": [
    "# keep only the columns we need from the wac dataframe\n",
    "to_keep = ['trct', 'cty', 'ctyname', 'makers', 'services', 'professions', 'support', 'total']\n",
    "wac2015 = wac2015[to_keep]\n",
    "wac2002 = wac2002[to_keep]"
   ]
  },
  {
   "cell_type": "code",
   "execution_count": 11,
   "metadata": {},
   "outputs": [],
   "source": [
    "# create a map of county names to county fips codes\n",
    "cty_map = wac2015[['cty', 'ctyname']].copy().drop_duplicates()"
   ]
  },
  {
   "cell_type": "code",
   "execution_count": 12,
   "metadata": {},
   "outputs": [
    {
     "data": {
      "text/html": [
       "<div>\n",
       "<style scoped>\n",
       "    .dataframe tbody tr th:only-of-type {\n",
       "        vertical-align: middle;\n",
       "    }\n",
       "\n",
       "    .dataframe tbody tr th {\n",
       "        vertical-align: top;\n",
       "    }\n",
       "\n",
       "    .dataframe thead th {\n",
       "        text-align: right;\n",
       "    }\n",
       "</style>\n",
       "<table border=\"1\" class=\"dataframe\">\n",
       "  <thead>\n",
       "    <tr style=\"text-align: right;\">\n",
       "      <th></th>\n",
       "      <th>cty</th>\n",
       "      <th>trct</th>\n",
       "      <th>makers</th>\n",
       "      <th>services</th>\n",
       "      <th>professions</th>\n",
       "      <th>support</th>\n",
       "      <th>total</th>\n",
       "    </tr>\n",
       "  </thead>\n",
       "  <tbody>\n",
       "    <tr>\n",
       "      <th>0</th>\n",
       "      <td>6001</td>\n",
       "      <td>67137994689004</td>\n",
       "      <td>189422</td>\n",
       "      <td>193351</td>\n",
       "      <td>143201</td>\n",
       "      <td>225266</td>\n",
       "      <td>751240</td>\n",
       "    </tr>\n",
       "    <tr>\n",
       "      <th>1</th>\n",
       "      <td>6013</td>\n",
       "      <td>39297182491667</td>\n",
       "      <td>61866</td>\n",
       "      <td>102059</td>\n",
       "      <td>71442</td>\n",
       "      <td>124395</td>\n",
       "      <td>359762</td>\n",
       "    </tr>\n",
       "    <tr>\n",
       "      <th>2</th>\n",
       "      <td>6041</td>\n",
       "      <td>11592901957680</td>\n",
       "      <td>16390</td>\n",
       "      <td>34820</td>\n",
       "      <td>21659</td>\n",
       "      <td>39602</td>\n",
       "      <td>112471</td>\n",
       "    </tr>\n",
       "    <tr>\n",
       "      <th>3</th>\n",
       "      <td>6055</td>\n",
       "      <td>6957425901726</td>\n",
       "      <td>25190</td>\n",
       "      <td>22246</td>\n",
       "      <td>5669</td>\n",
       "      <td>20499</td>\n",
       "      <td>73604</td>\n",
       "    </tr>\n",
       "    <tr>\n",
       "      <th>4</th>\n",
       "      <td>6075</td>\n",
       "      <td>30709363047279</td>\n",
       "      <td>74938</td>\n",
       "      <td>192580</td>\n",
       "      <td>238913</td>\n",
       "      <td>194185</td>\n",
       "      <td>700616</td>\n",
       "    </tr>\n",
       "    <tr>\n",
       "      <th>5</th>\n",
       "      <td>6081</td>\n",
       "      <td>29678247471438</td>\n",
       "      <td>86735</td>\n",
       "      <td>101077</td>\n",
       "      <td>115786</td>\n",
       "      <td>84334</td>\n",
       "      <td>387932</td>\n",
       "    </tr>\n",
       "    <tr>\n",
       "      <th>6</th>\n",
       "      <td>6085</td>\n",
       "      <td>67567382424048</td>\n",
       "      <td>262518</td>\n",
       "      <td>245661</td>\n",
       "      <td>256660</td>\n",
       "      <td>242029</td>\n",
       "      <td>1006868</td>\n",
       "    </tr>\n",
       "    <tr>\n",
       "      <th>7</th>\n",
       "      <td>6095</td>\n",
       "      <td>16835088103469</td>\n",
       "      <td>30630</td>\n",
       "      <td>37413</td>\n",
       "      <td>11800</td>\n",
       "      <td>64630</td>\n",
       "      <td>144473</td>\n",
       "    </tr>\n",
       "    <tr>\n",
       "      <th>8</th>\n",
       "      <td>6097</td>\n",
       "      <td>23681339408254</td>\n",
       "      <td>52227</td>\n",
       "      <td>56591</td>\n",
       "      <td>22549</td>\n",
       "      <td>61678</td>\n",
       "      <td>193045</td>\n",
       "    </tr>\n",
       "  </tbody>\n",
       "</table>\n",
       "</div>"
      ],
      "text/plain": [
       "    cty            trct  makers  services  professions  support    total\n",
       "0  6001  67137994689004  189422    193351       143201   225266   751240\n",
       "1  6013  39297182491667   61866    102059        71442   124395   359762\n",
       "2  6041  11592901957680   16390     34820        21659    39602   112471\n",
       "3  6055   6957425901726   25190     22246         5669    20499    73604\n",
       "4  6075  30709363047279   74938    192580       238913   194185   700616\n",
       "5  6081  29678247471438   86735    101077       115786    84334   387932\n",
       "6  6085  67567382424048  262518    245661       256660   242029  1006868\n",
       "7  6095  16835088103469   30630     37413        11800    64630   144473\n",
       "8  6097  23681339408254   52227     56591        22549    61678   193045"
      ]
     },
     "execution_count": 12,
     "metadata": {},
     "output_type": "execute_result"
    }
   ],
   "source": [
    "# group and aggregate data by county\n",
    "wac2015_cty = wac2015.groupby('cty', as_index=False).agg(np.sum)\n",
    "wac2002_cty = wac2002.groupby('cty', as_index=False).agg(np.sum)\n",
    "\n",
    "wac2015_cty"
   ]
  },
  {
   "cell_type": "code",
   "execution_count": 13,
   "metadata": {},
   "outputs": [],
   "source": [
    "# new dataframe for county stats\n",
    "cd = pd.DataFrame()"
   ]
  },
  {
   "cell_type": "code",
   "execution_count": 14,
   "metadata": {},
   "outputs": [
    {
     "name": "stdout",
     "output_type": "stream",
     "text": [
      "          ctyname  maker_change  prof_change  services_change  support_change  \\\n",
      "4  San Francisco           6406        77280            35238           63860   \n",
      "6    Santa Clara         -20752        62599            43517           58457   \n",
      "0        Alameda         -18162         -852            32079           47572   \n",
      "5      San Mateo          -8786        31506             9817           14624   \n",
      "1   Contra Costa          -3155         2673            10900           25038   \n",
      "7         Solano          -1118         -827             1975           26611   \n",
      "8         Sonoma          -2506        -1205             9040            9202   \n",
      "3           Napa           3068          122             5251            5655   \n",
      "2          Marin          -1055        -3105             1707            9353   \n",
      "\n",
      "   total_change  maker_pct_change  prof_pct_change  services_pct_change  \\\n",
      "4        182784              0.09             0.48                 0.22   \n",
      "6        143821             -0.07             0.32                 0.22   \n",
      "0         60637             -0.09            -0.01                 0.20   \n",
      "5         47161             -0.09             0.37                 0.11   \n",
      "1         35456             -0.05             0.04                 0.12   \n",
      "7         26641             -0.04            -0.07                 0.06   \n",
      "8         14531             -0.05            -0.05                 0.19   \n",
      "3         14096              0.14             0.02                 0.31   \n",
      "2          6900             -0.06            -0.13                 0.05   \n",
      "\n",
      "   support_pct_change  \n",
      "4                0.49  \n",
      "6                0.32  \n",
      "0                0.27  \n",
      "5                0.21  \n",
      "1                0.25  \n",
      "7                0.70  \n",
      "8                0.18  \n",
      "3                0.38  \n",
      "2                0.31  \n"
     ]
    }
   ],
   "source": [
    "cd['county_fips'] = wac2015_cty['cty']\n",
    "\n",
    "cd = cd.merge(cty_map, left_on='county_fips', right_on='cty')\n",
    "cd = cd[['ctyname']]\n",
    "cd['ctyname'] = cd['ctyname'].str[:-10]\n",
    "\n",
    "cd['maker_change'] = wac2015_cty['makers'] - wac2002_cty['makers']\n",
    "cd['prof_change'] = wac2015_cty['professions'] - wac2002_cty['professions']\n",
    "cd['services_change'] = wac2015_cty['services'] - wac2002_cty['services']\n",
    "cd['support_change'] = wac2015_cty['support'] - wac2002_cty['support']\n",
    "cd['total_change'] = wac2015_cty['total'] - wac2002_cty['total']\n",
    "\n",
    "cd['maker_pct_change'] = (cd['maker_change'] / wac2002_cty['makers']).round(2)\n",
    "cd['prof_pct_change'] = (cd['prof_change'] / wac2002_cty['professions']).round(2)\n",
    "cd['services_pct_change'] = (cd['services_change'] / wac2002_cty['services']).round(2)\n",
    "cd['support_pct_change'] = (cd['support_change'] / wac2002_cty['support']).round(2)\n",
    "\n",
    "cd = cd.sort_values('total_change', ascending=False)\n",
    "\n",
    "print(cd)"
   ]
  },
  {
   "cell_type": "code",
   "execution_count": 15,
   "metadata": {},
   "outputs": [],
   "source": [
    "# save above table to csv\n",
    "cd.to_csv(os.path.join(dirname, \"county_level_change.csv\"), index=False)"
   ]
  },
  {
   "cell_type": "markdown",
   "metadata": {},
   "source": [
    "## Regional change of each category from 2002 – 2015"
   ]
  },
  {
   "cell_type": "code",
   "execution_count": 16,
   "metadata": {},
   "outputs": [],
   "source": [
    "# new data frame for 9 county sf bay area region\n",
    "reg = pd.DataFrame(\n",
    "    columns=['category', '2002', '2015', 'change', 'pct_change'],\n",
    "    index=[0, 1, 2, 3, 4]\n",
    ")\n",
    "\n",
    "reg['category'] = ['makers', 'services', 'professions', 'support', 'total']\n",
    "\n",
    "#print(reg)"
   ]
  },
  {
   "cell_type": "code",
   "execution_count": 17,
   "metadata": {},
   "outputs": [],
   "source": [
    "# calc 2015 & 2002 yearly totals for each category\n",
    "reg['2015'] = [\n",
    "    wac2015['makers'].sum(),\n",
    "    wac2015['services'].sum(),\n",
    "    wac2015['professions'].sum(),\n",
    "    wac2015['support'].sum(),\n",
    "    wac2015['total'].sum()\n",
    "]\n",
    "\n",
    "reg['2002'] = [\n",
    "    wac2002['makers'].sum(),\n",
    "    wac2002['services'].sum(),\n",
    "    wac2002['professions'].sum(),\n",
    "    wac2002['support'].sum(),\n",
    "    wac2002['total'].sum()\n",
    "]\n",
    "\n",
    "#print(reg)"
   ]
  },
  {
   "cell_type": "code",
   "execution_count": 18,
   "metadata": {},
   "outputs": [
    {
     "name": "stdout",
     "output_type": "stream",
     "text": [
      "      category     2002     2015  change  pct_change\n",
      "0       makers   845976   799916  -46060       -5.44\n",
      "1     services   836274   985798  149524       17.88\n",
      "2  professions   719488   887679  168191       23.38\n",
      "3      support   796246  1056618  260372       32.70\n",
      "4        total  3197984  3730011  532027       16.64\n"
     ]
    }
   ],
   "source": [
    "# calc the net and percentage diff between years\n",
    "reg['change'] = reg['2015'] - reg['2002']\n",
    "reg['pct_change'] = (reg['change'] / reg['2002'] * 100).round(2)\n",
    "\n",
    "print(reg)"
   ]
  },
  {
   "cell_type": "code",
   "execution_count": 20,
   "metadata": {},
   "outputs": [],
   "source": [
    "# save above table to csv\n",
    "reg.to_csv(os.path.join(dirname, \"region_level.csv\"), index=False)"
   ]
  }
 ],
 "metadata": {
  "kernelspec": {
   "display_name": "Python 3",
   "language": "python",
   "name": "python3"
  },
  "language_info": {
   "codemirror_mode": {
    "name": "ipython",
    "version": 3
   },
   "file_extension": ".py",
   "mimetype": "text/x-python",
   "name": "python",
   "nbconvert_exporter": "python",
   "pygments_lexer": "ipython3",
   "version": "3.7.0"
  }
 },
 "nbformat": 4,
 "nbformat_minor": 2
}
